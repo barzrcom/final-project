{
  "cells": [
    {
      "cell_type": "code",
      "execution_count": 1,
      "metadata": {
        "pycharm": {}
      },
      "outputs": [],
      "source": [
        "import time\n",
        "import warnings\n",
        "from itertools import cycle\n",
        "\n",
        "import matplotlib.pyplot as plt\n",
        "import numpy as np\n",
        "import pandas as pd\n",
        "import seaborn as sns\n",
        "from scipy import interp\n",
        "from sklearn import preprocessing, tree\n",
        "from sklearn.metrics import classification_report, confusion_matrix, accuracy_score, roc_curve, auc\n",
        "from sklearn.model_selection import train_test_split\n",
        "from sklearn.multiclass import OneVsRestClassifier\n",
        "from sklearn.naive_bayes import GaussianNB\n",
        "from sklearn.preprocessing import label_binarize\n",
        "from sklearn.tree import DecisionTreeClassifier\n",
        "from scipy import stats\n",
        "from scipy.stats import norm\n",
        "import datetime as dt\n",
        "\n",
        "%matplotlib inline\n",
        "\n",
        "warnings.filterwarnings(\"ignore\")\n",
        "# https://www.kaggle.com/erick5/predicting-house-prices-with-machine-learning"
      ]
    },
    {
      "cell_type": "code",
      "execution_count": 2,
      "metadata": {
        "pycharm": {}
      },
      "outputs": [
        {
          "name": "stdout",
          "output_type": "stream",
          "text": [
            "Index([\u0027_id\u0027, \u0027sale_day\u0027, \u0027address\u0027, \u0027property_type\u0027, \u0027rooms_number\u0027, \u0027floor\u0027,\n",
            "       \u0027build_year\u0027, \u0027building_mr\u0027, \u0027sold_part\u0027, \u0027full_price\u0027, \u0027city\u0027],\n",
            "      dtype\u003d\u0027object\u0027)\n",
            "(517569, 11)\n"
          ]
        }
      ],
      "source": "# Columns\ntry:\n    df \u003d pd.read_csv(\"data/data_deals.csv\")\nexcept Exception:\n    print(\"Seems we have a problem\")\ndf.drop(columns\u003d[\u0027_id\u0027])\nprint(df.columns)\nprint(df.shape)"
    },
    {
      "cell_type": "code",
      "execution_count": 3,
      "metadata": {
        "pycharm": {}
      },
      "outputs": [
        {
          "name": "stdout",
          "output_type": "stream",
          "text": [
            "                        _id   sale_day        address    property_type  \\\n",
            "0  5cab7d497e16a98c7a79bd4a 2018-12-25  יונה הנביא 36  דירה בבית קומות   \n",
            "\n",
            "   rooms_number floor build_year  building_mr sold_part   full_price  \\\n",
            "0           5.0  קרקע 2017-01-01          126       NaN  5,470,085 ₪   \n",
            "\n",
            "          city  \n",
            "0  תל אביב יפו  \n"
          ]
        }
      ],
      "source": [
        "# sale_day \"05-06-2016\"\n",
        "# build_year \"2017\"\n",
        "df[\u0027sale_day\u0027] \u003d pd.to_datetime(df[\u0027sale_day\u0027], format\u003d\"%d-%m-%Y\")\n",
        "df[\u0027build_year\u0027] \u003d pd.to_datetime(df[\u0027build_year\u0027], format\u003d\"%Y\")\n",
        "print(df.head(1))\n"
      ]
    },
    {
      "cell_type": "code",
      "execution_count": 4,
      "metadata": {
        "pycharm": {}
      },
      "outputs": [
        {
          "data": {
            "text/plain": [
              "(517569, 11)"
            ]
          },
          "execution_count": 4,
          "metadata": {},
          "output_type": "execute_result"
        }
      ],
      "source": [
        "# remove properties that their date is before 2015\n",
        "from_year \u003d 2015\n",
        "# df \u003d df.loc[(df[\u0027sale_day\u0027].dt.year \u003e\u003d from_year)]\n",
        "df.shape"
      ]
    },
    {
      "cell_type": "code",
      "execution_count": 5,
      "metadata": {
        "scrolled": true,
        "pycharm": {}
      },
      "outputs": [
        {
          "data": {
            "text/plain": [
              "(517569, 11)"
            ]
          },
          "execution_count": 5,
          "metadata": {},
          "output_type": "execute_result"
        }
      ],
      "source": [
        "# List unique values in the df[\u0027name\u0027] column\n",
        "cols \u003d [\u0027full_price\u0027, \u0027sold_part\u0027, \u0027floor\u0027]\n",
        "for col in cols:\n",
        "    try:\n",
        "        df.replace({col: {\u0027₪\u0027: \u0027\u0027,\n",
        "                          \u0027\\$\u0027: \u0027\u0027,\n",
        "                          \u0027קרקע\u0027: 0,\n",
        "                          \u0027לא צוין מחיר\u0027: None,\n",
        "                          \u0027לא צוין\u0027: None,\n",
        "                          \u0027,\u0027: \u0027\u0027,\n",
        "                          \u0027%\u0027: \u0027\u0027,\n",
        "                          \u0027 \u0027: \u0027\u0027}}, regex\u003dTrue, inplace\u003dTrue)\n",
        "    except TypeError:\n",
        "        # in case of double replacement\n",
        "        pass\n",
        "df.shape"
      ]
    },
    {
      "cell_type": "code",
      "execution_count": 6,
      "metadata": {
        "scrolled": false,
        "pycharm": {}
      },
      "outputs": [
        {
          "data": {
            "text/plain": [
              "count    5.152200e+05\n",
              "mean     1.067818e+06\n",
              "std      9.761650e+05\n",
              "min      2.000000e+00\n",
              "25%      5.240000e+05\n",
              "50%      8.500000e+05\n",
              "75%      1.370000e+06\n",
              "max      1.322710e+08\n",
              "Name: full_price, dtype: float64"
            ]
          },
          "execution_count": 6,
          "metadata": {},
          "output_type": "execute_result"
        }
      ],
      "source": [
        "# Getting Description\n",
        "df \u003d df[pd.notnull(df[\u0027floor\u0027])]\n",
        "df[\u0027floor\u0027] \u003d df[\u0027floor\u0027].astype(int)\n",
        "df[\u0027full_price\u0027] \u003d df[\u0027full_price\u0027].astype(int)\n",
        "df[\u0027full_price\u0027].describe()"
      ]
    },
    {
      "cell_type": "code",
      "execution_count": 7,
      "metadata": {
        "pycharm": {}
      },
      "outputs": [
        {
          "name": "stdout",
          "output_type": "stream",
          "text": [
            "            0   1\n",
            "0  יונה הנביא  36\n",
            "1  יונה הנביא  25\n",
            "2  יונה הנביא  26\n",
            "3  יונה הנביא  24\n",
            "4  יונה הנביא  26\n"
          ]
        },
        {
          "data": {
            "text/plain": [
              "0    36\n",
              "1    25\n",
              "2    26\n",
              "3    24\n",
              "4    26\n",
              "Name: street_number, dtype: object"
            ]
          },
          "execution_count": 7,
          "metadata": {},
          "output_type": "execute_result"
        }
      ],
      "source": [
        "# df[\u0027street\u0027] \u003d df[\u0027address\u0027].astype(float)\n",
        "split_data \u003d df[\u0027address\u0027].str.rsplit(n\u003d1,expand\u003dTrue)\n",
        "print(split_data.head(5))\n",
        "df[\u0027street_name\u0027] \u003d split_data[0]\n",
        "df[\u0027street_number\u0027] \u003d split_data[1]\n",
        "df[\u0027street_number\u0027].head(5)"
      ]
    },
    {
      "cell_type": "code",
      "execution_count": 8,
      "metadata": {
        "pycharm": {}
      },
      "outputs": [
        {
          "name": "stdout",
          "output_type": "stream",
          "text": [
            "                        _id   sale_day        address    property_type  \\\n",
            "0  5cab7d497e16a98c7a79bd4a 2018-12-25  יונה הנביא 36  דירה בבית קומות   \n",
            "1  5cab7d497e16a98c7a79bd4b 2018-12-07  יונה הנביא 25  דירה בבית קומות   \n",
            "2  5cab7d497e16a98c7a79bd4c 2018-05-10  יונה הנביא 26  דירה בבית קומות   \n",
            "3  5cab7d497e16a98c7a79bd4d 2018-01-24  יונה הנביא 24  דירה בבית קומות   \n",
            "4  5cab7d497e16a98c7a79bd4e 2017-09-13  יונה הנביא 26  דירה בבית קומות   \n",
            "\n",
            "   rooms_number  floor build_year  building_mr  sold_part  full_price  \\\n",
            "0           5.0      0 2017-01-01          126      100.0     5470085   \n",
            "1           3.0      1 2018-01-01           78       10.0      410000   \n",
            "2           3.0      0 1950-01-01           58      100.0     2900000   \n",
            "3           1.0      1 1960-01-01           23       43.7      481250   \n",
            "4           2.5      1 1930-01-01           58      100.0     2500000   \n",
            "\n",
            "          city street_name street_number  final_price  \n",
            "0  תל אביב יפו  יונה הנביא            36      5470085  \n",
            "1  תל אביב יפו  יונה הנביא            25      4100000  \n",
            "2  תל אביב יפו  יונה הנביא            26      2900000  \n",
            "3  תל אביב יפו  יונה הנביא            24      1101258  \n",
            "4  תל אביב יפו  יונה הנביא            26      2500000  \n"
          ]
        }
      ],
      "source": [
        "# format sold_part to full_price\n",
        "df[\u0027sold_part\u0027] \u003d df[\u0027sold_part\u0027].astype(float)\n",
        "df[\u0027sold_part\u0027].fillna(100, inplace \u003d True)\n",
        "df[\u0027final_price\u0027] \u003d (100 / df[\u0027sold_part\u0027]) * df[\u0027full_price\u0027]\n",
        "df[\u0027final_price\u0027] \u003d df[\u0027final_price\u0027].astype(int)\n",
        "df.drop(columns\u003d[\u0027sold_part\u0027, \u0027full_price\u0027])\n",
        "print(df.head(5))\n",
        "\n"
      ]
    },
    {
      "cell_type": "code",
      "execution_count": 9,
      "metadata": {
        "scrolled": true,
        "pycharm": {}
      },
      "outputs": [
        {
          "data": {
            "text/plain": [
              "(510043, 14)"
            ]
          },
          "execution_count": 9,
          "metadata": {},
          "output_type": "execute_result"
        }
      ],
      "source": [
        "# remove properties that their price is too low or too high\n",
        "min_price \u003d 100000\n",
        "max_price \u003d 5000000\n",
        "df \u003d df.loc[(min_price \u003c df[\u0027final_price\u0027]) \u0026 (df[\u0027final_price\u0027] \u003c max_price)]\n",
        "df.shape"
      ]
    },
    {
      "cell_type": "code",
      "execution_count": 10,
      "metadata": {
        "scrolled": true,
        "pycharm": {}
      },
      "outputs": [
        {
          "data": {
            "text/plain": [
              "\u003cmatplotlib.axes._subplots.AxesSubplot at 0x1a31325588\u003e"
            ]
          },
          "execution_count": 10,
          "metadata": {},
          "output_type": "execute_result"
        },
        {
          "data": {
            "image/png": "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\u003d\u003d\n",
            "text/plain": [
              "\u003cFigure size 432x288 with 1 Axes\u003e"
            ]
          },
          "metadata": {
            "needs_background": "light"
          },
          "output_type": "display_data"
        }
      ],
      "source": [
        "sns.distplot(df[\u0027final_price\u0027])"
      ]
    },
    {
      "cell_type": "code",
      "execution_count": 11,
      "metadata": {
        "pycharm": {}
      },
      "outputs": [],
      "source": "df.to_csv(\u0027data/data_deals_done.csv\u0027, encoding\u003d\u0027utf-8\u0027, index\u003dFalse)"
    },
    {
      "cell_type": "code",
      "execution_count": 12,
      "metadata": {
        "pycharm": {}
      },
      "outputs": [
        {
          "name": "stdout",
          "output_type": "stream",
          "text": [
            "count     510043\n",
            "unique         3\n",
            "top            C\n",
            "freq      425941\n",
            "Name: build_year_class, dtype: object\n"
          ]
        }
      ],
      "source": [
        "used_features \u003d [\u0027sale_day\u0027, \u0027street_name\u0027, \u0027street_number\u0027, \u0027property_type\u0027, \u0027rooms_number\u0027, \u0027floor\u0027,\n",
        "       \u0027build_year_class\u0027, \u0027building_mr\u0027, \u0027city\u0027]\n",
        "\n",
        "#df[\u0027sale_day\u0027] \u003d df[\u0027sale_day\u0027].map(dt.datetime.toordinal)\n",
        "year_classes \u003d {\n",
        "    \u0027A\u0027: range(2016,2030), \n",
        "    \u0027B\u0027: range(2009,2016),\n",
        "    \u0027C\u0027: range(1,2009)\n",
        "}\n",
        "\n",
        "def year_norm(_year):\n",
        "    for _class, _range in year_classes.items():\n",
        "        if int(_year.year) in _range:\n",
        "            return _class\n",
        "    return \u0027C\u0027\n",
        "\n",
        "#df[\u0027build_year\u0027] \u003d df[\u0027build_year\u0027].map(dt.datetime.toordinal)\n",
        "df[\u0027build_year_class\u0027] \u003d df[\u0027build_year\u0027].map(year_norm)\n",
        "print(df[\u0027build_year_class\u0027].describe())"
      ]
    },
    {
      "cell_type": "code",
      "execution_count": 13,
      "metadata": {
        "pycharm": {}
      },
      "outputs": [],
      "source": [
        "X \u003d df[used_features]\n",
        "y \u003d df[\u0027final_price\u0027]"
      ]
    },
    {
      "cell_type": "code",
      "execution_count": 14,
      "metadata": {
        "pycharm": {}
      },
      "outputs": [],
      "source": [
        "# 1. INSTANTIATE\n",
        "# encode labels with value between 0 and n_classes-1.\n",
        "# integer encode\n",
        "le \u003d preprocessing.LabelEncoder()\n",
        "\n",
        "# 2/3. FIT AND TRANSFORM\n",
        "# use df.apply() to apply le.fit_transform to all columns\n",
        "# integer_encoded \u003d df.apply(le.fit_transform)\n",
        "\n",
        "# apply the values into the original data\n",
        "for row in X[used_features]:\n",
        "    X[row] \u003d le.fit_transform(df[row])\n"
      ]
    },
    {
      "cell_type": "code",
      "execution_count": 15,
      "metadata": {
        "pycharm": {}
      },
      "outputs": [
        {
          "name": "stdout",
          "output_type": "stream",
          "text": [
            "Total Features:  0 categorical + 9 numerical \u003d 9 features\n"
          ]
        },
        {
          "data": {
            "text/plain": [
              "_id                 False\n",
              "sale_day            False\n",
              "address             False\n",
              "property_type       False\n",
              "rooms_number        False\n",
              "floor               False\n",
              "build_year          False\n",
              "building_mr         False\n",
              "sold_part           False\n",
              "full_price          False\n",
              "city                False\n",
              "street_name         False\n",
              "street_number       False\n",
              "final_price         False\n",
              "build_year_class    False\n",
              "dtype: bool"
            ]
          },
          "execution_count": 15,
          "metadata": {},
          "output_type": "execute_result"
        }
      ],
      "source": [
        "cat \u003d len(X.select_dtypes(include\u003d[\u0027object\u0027]).columns)\n",
        "num \u003d len(X.select_dtypes(include\u003d[\u0027int64\u0027,\u0027float64\u0027, \u0027datetime\u0027]).columns)\n",
        "print(\u0027Total Features: \u0027, cat, \u0027categorical\u0027, \u0027+\u0027,\n",
        "      num, \u0027numerical\u0027, \u0027\u003d\u0027, cat+num, \u0027features\u0027)\n",
        "\n",
        "df.isna().any()"
      ]
    },
    {
      "cell_type": "code",
      "execution_count": 16,
      "metadata": {
        "pycharm": {}
      },
      "outputs": [],
      "source": [
        "from sklearn.model_selection import train_test_split\n",
        "X_train, X_test, y_train, y_test \u003d train_test_split(X, y, test_size\u003d0.2, random_state\u003d101)"
      ]
    },
    {
      "cell_type": "code",
      "execution_count": 17,
      "metadata": {
        "pycharm": {}
      },
      "outputs": [
        {
          "data": {
            "text/plain": [
              "LinearRegression(copy_X\u003dTrue, fit_intercept\u003dTrue, n_jobs\u003dNone,\n",
              "         normalize\u003dFalse)"
            ]
          },
          "execution_count": 17,
          "metadata": {},
          "output_type": "execute_result"
        }
      ],
      "source": [
        "from sklearn.linear_model import LinearRegression\n",
        "\n",
        "lm \u003d LinearRegression()\n",
        "\n",
        "lm.fit(X_train, y_train)"
      ]
    },
    {
      "cell_type": "code",
      "execution_count": 18,
      "metadata": {
        "scrolled": true,
        "pycharm": {}
      },
      "outputs": [
        {
          "name": "stdout",
          "output_type": "stream",
          "text": [
            "-187153.71594619914\n"
          ]
        }
      ],
      "source": [
        "print(lm.intercept_)"
      ]
    },
    {
      "cell_type": "code",
      "execution_count": 19,
      "metadata": {
        "pycharm": {}
      },
      "outputs": [
        {
          "name": "stdout",
          "output_type": "stream",
          "text": [
            "Index([\u0027sale_day\u0027, \u0027street_name\u0027, \u0027street_number\u0027, \u0027property_type\u0027,\n",
            "       \u0027rooms_number\u0027, \u0027floor\u0027, \u0027build_year_class\u0027, \u0027building_mr\u0027, \u0027city\u0027],\n",
            "      dtype\u003d\u0027object\u0027)\n",
            "[ 1.14452859e+02 -8.79296314e+00  1.11655642e+01 -1.04817054e+04\n",
            "  2.11797989e+04  2.15562961e+04 -1.56990969e+05  8.58291314e+03\n",
            "  2.72148920e+03]\n"
          ]
        }
      ],
      "source": [
        "print(X.columns)\n",
        "print(lm.coef_)"
      ]
    },
    {
      "cell_type": "code",
      "execution_count": 20,
      "metadata": {
        "pycharm": {}
      },
      "outputs": [],
      "source": [
        "predictions \u003d lm.predict(X_test)"
      ]
    },
    {
      "cell_type": "code",
      "execution_count": 21,
      "metadata": {
        "pycharm": {}
      },
      "outputs": [
        {
          "data": {
            "text/plain": [
              "Text(0, 0.5, \u0027Predicted Y\u0027)"
            ]
          },
          "execution_count": 21,
          "metadata": {},
          "output_type": "execute_result"
        },
        {
          "data": {
            "image/png": "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\u003d\u003d\n",
            "text/plain": [
              "\u003cFigure size 432x288 with 1 Axes\u003e"
            ]
          },
          "metadata": {
            "needs_background": "light"
          },
          "output_type": "display_data"
        }
      ],
      "source": [
        "plt.scatter(y_test, predictions)\n",
        "plt.xlabel(\u0027Y Test\u0027)\n",
        "plt.ylabel(\u0027Predicted Y\u0027)"
      ]
    },
    {
      "cell_type": "code",
      "execution_count": 22,
      "metadata": {
        "pycharm": {}
      },
      "outputs": [
        {
          "data": {
            "image/png": "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\u003d\u003d\n",
            "text/plain": [
              "\u003cFigure size 432x288 with 1 Axes\u003e"
            ]
          },
          "metadata": {
            "needs_background": "light"
          },
          "output_type": "display_data"
        }
      ],
      "source": [
        "sns.distplot((y_test-predictions),bins\u003d50);"
      ]
    },
    {
      "cell_type": "code",
      "execution_count": 23,
      "metadata": {
        "pycharm": {}
      },
      "outputs": [
        {
          "data": {
            "text/plain": [
              "0.4824511090998702"
            ]
          },
          "execution_count": 23,
          "metadata": {},
          "output_type": "execute_result"
        }
      ],
      "source": [
        "lm.score(X,y)"
      ]
    },
    {
      "cell_type": "code",
      "execution_count": 24,
      "metadata": {
        "pycharm": {}
      },
      "outputs": [
        {
          "data": {
            "text/html": [
              "\u003ctable class\u003d\"simpletable\"\u003e\n",
              "\u003ccaption\u003eOLS Regression Results\u003c/caption\u003e\n",
              "\u003ctr\u003e\n",
              "  \u003cth\u003eDep. Variable:\u003c/th\u003e       \u003ctd\u003efinal_price\u003c/td\u003e   \u003cth\u003e  R-squared:         \u003c/th\u003e  \u003ctd\u003e   0.482\u003c/td\u003e  \n",
              "\u003c/tr\u003e\n",
              "\u003ctr\u003e\n",
              "  \u003cth\u003eModel:\u003c/th\u003e                   \u003ctd\u003eOLS\u003c/td\u003e       \u003cth\u003e  Adj. R-squared:    \u003c/th\u003e  \u003ctd\u003e   0.482\u003c/td\u003e  \n",
              "\u003c/tr\u003e\n",
              "\u003ctr\u003e\n",
              "  \u003cth\u003eMethod:\u003c/th\u003e             \u003ctd\u003eLeast Squares\u003c/td\u003e  \u003cth\u003e  F-statistic:       \u003c/th\u003e  \u003ctd\u003e5.283e+04\u003c/td\u003e \n",
              "\u003c/tr\u003e\n",
              "\u003ctr\u003e\n",
              "  \u003cth\u003eDate:\u003c/th\u003e             \u003ctd\u003eMon, 08 Apr 2019\u003c/td\u003e \u003cth\u003e  Prob (F-statistic):\u003c/th\u003e   \u003ctd\u003e  0.00\u003c/td\u003e   \n",
              "\u003c/tr\u003e\n",
              "\u003ctr\u003e\n",
              "  \u003cth\u003eTime:\u003c/th\u003e                 \u003ctd\u003e21:14:21\u003c/td\u003e     \u003cth\u003e  Log-Likelihood:    \u003c/th\u003e \u003ctd\u003e-7.4369e+06\u003c/td\u003e\n",
              "\u003c/tr\u003e\n",
              "\u003ctr\u003e\n",
              "  \u003cth\u003eNo. Observations:\u003c/th\u003e      \u003ctd\u003e510043\u003c/td\u003e      \u003cth\u003e  AIC:               \u003c/th\u003e  \u003ctd\u003e1.487e+07\u003c/td\u003e \n",
              "\u003c/tr\u003e\n",
              "\u003ctr\u003e\n",
              "  \u003cth\u003eDf Residuals:\u003c/th\u003e          \u003ctd\u003e510033\u003c/td\u003e      \u003cth\u003e  BIC:               \u003c/th\u003e  \u003ctd\u003e1.487e+07\u003c/td\u003e \n",
              "\u003c/tr\u003e\n",
              "\u003ctr\u003e\n",
              "  \u003cth\u003eDf Model:\u003c/th\u003e              \u003ctd\u003e     9\u003c/td\u003e      \u003cth\u003e                     \u003c/th\u003e      \u003ctd\u003e \u003c/td\u003e     \n",
              "\u003c/tr\u003e\n",
              "\u003ctr\u003e\n",
              "  \u003cth\u003eCovariance Type:\u003c/th\u003e      \u003ctd\u003enonrobust\u003c/td\u003e    \u003cth\u003e                     \u003c/th\u003e      \u003ctd\u003e \u003c/td\u003e     \n",
              "\u003c/tr\u003e\n",
              "\u003c/table\u003e\n",
              "\u003ctable class\u003d\"simpletable\"\u003e\n",
              "\u003ctr\u003e\n",
              "          \u003ctd\u003e\u003c/td\u003e            \u003cth\u003ecoef\u003c/th\u003e     \u003cth\u003estd err\u003c/th\u003e      \u003cth\u003et\u003c/th\u003e      \u003cth\u003eP\u003e|t|\u003c/th\u003e  \u003cth\u003e[0.025\u003c/th\u003e    \u003cth\u003e0.975]\u003c/th\u003e  \n",
              "\u003c/tr\u003e\n",
              "\u003ctr\u003e\n",
              "  \u003cth\u003econst\u003c/th\u003e            \u003ctd\u003e-1.878e+05\u003c/td\u003e \u003ctd\u003e 6723.760\u003c/td\u003e \u003ctd\u003e  -27.930\u003c/td\u003e \u003ctd\u003e 0.000\u003c/td\u003e \u003ctd\u003e-2.01e+05\u003c/td\u003e \u003ctd\u003e-1.75e+05\u003c/td\u003e\n",
              "\u003c/tr\u003e\n",
              "\u003ctr\u003e\n",
              "  \u003cth\u003esale_day\u003c/th\u003e         \u003ctd\u003e  114.5232\u003c/td\u003e \u003ctd\u003e    0.589\u003c/td\u003e \u003ctd\u003e  194.274\u003c/td\u003e \u003ctd\u003e 0.000\u003c/td\u003e \u003ctd\u003e  113.368\u003c/td\u003e \u003ctd\u003e  115.679\u003c/td\u003e\n",
              "\u003c/tr\u003e\n",
              "\u003ctr\u003e\n",
              "  \u003cth\u003estreet_name\u003c/th\u003e      \u003ctd\u003e   -8.8442\u003c/td\u003e \u003ctd\u003e    0.654\u003c/td\u003e \u003ctd\u003e  -13.523\u003c/td\u003e \u003ctd\u003e 0.000\u003c/td\u003e \u003ctd\u003e  -10.126\u003c/td\u003e \u003ctd\u003e   -7.562\u003c/td\u003e\n",
              "\u003c/tr\u003e\n",
              "\u003ctr\u003e\n",
              "  \u003cth\u003estreet_number\u003c/th\u003e    \u003ctd\u003e   11.9401\u003c/td\u003e \u003ctd\u003e    1.948\u003c/td\u003e \u003ctd\u003e    6.128\u003c/td\u003e \u003ctd\u003e 0.000\u003c/td\u003e \u003ctd\u003e    8.121\u003c/td\u003e \u003ctd\u003e   15.759\u003c/td\u003e\n",
              "\u003c/tr\u003e\n",
              "\u003ctr\u003e\n",
              "  \u003cth\u003eproperty_type\u003c/th\u003e    \u003ctd\u003e-1.054e+04\u003c/td\u003e \u003ctd\u003e  711.387\u003c/td\u003e \u003ctd\u003e  -14.816\u003c/td\u003e \u003ctd\u003e 0.000\u003c/td\u003e \u003ctd\u003e-1.19e+04\u003c/td\u003e \u003ctd\u003e-9145.374\u003c/td\u003e\n",
              "\u003c/tr\u003e\n",
              "\u003ctr\u003e\n",
              "  \u003cth\u003erooms_number\u003c/th\u003e     \u003ctd\u003e 2.082e+04\u003c/td\u003e \u003ctd\u003e  664.967\u003c/td\u003e \u003ctd\u003e   31.308\u003c/td\u003e \u003ctd\u003e 0.000\u003c/td\u003e \u003ctd\u003e 1.95e+04\u003c/td\u003e \u003ctd\u003e 2.21e+04\u003c/td\u003e\n",
              "\u003c/tr\u003e\n",
              "\u003ctr\u003e\n",
              "  \u003cth\u003efloor\u003c/th\u003e            \u003ctd\u003e 2.162e+04\u003c/td\u003e \u003ctd\u003e  229.791\u003c/td\u003e \u003ctd\u003e   94.101\u003c/td\u003e \u003ctd\u003e 0.000\u003c/td\u003e \u003ctd\u003e 2.12e+04\u003c/td\u003e \u003ctd\u003e 2.21e+04\u003c/td\u003e\n",
              "\u003c/tr\u003e\n",
              "\u003ctr\u003e\n",
              "  \u003cth\u003ebuild_year_class\u003c/th\u003e \u003ctd\u003e-1.572e+05\u003c/td\u003e \u003ctd\u003e 1605.901\u003c/td\u003e \u003ctd\u003e  -97.886\u003c/td\u003e \u003ctd\u003e 0.000\u003c/td\u003e \u003ctd\u003e -1.6e+05\u003c/td\u003e \u003ctd\u003e-1.54e+05\u003c/td\u003e\n",
              "\u003c/tr\u003e\n",
              "\u003ctr\u003e\n",
              "  \u003cth\u003ebuilding_mr\u003c/th\u003e      \u003ctd\u003e 8598.8165\u003c/td\u003e \u003ctd\u003e   40.239\u003c/td\u003e \u003ctd\u003e  213.693\u003c/td\u003e \u003ctd\u003e 0.000\u003c/td\u003e \u003ctd\u003e 8519.949\u003c/td\u003e \u003ctd\u003e 8677.684\u003c/td\u003e\n",
              "\u003c/tr\u003e\n",
              "\u003ctr\u003e\n",
              "  \u003cth\u003ecity\u003c/th\u003e             \u003ctd\u003e 2726.6664\u003c/td\u003e \u003ctd\u003e   12.780\u003c/td\u003e \u003ctd\u003e  213.358\u003c/td\u003e \u003ctd\u003e 0.000\u003c/td\u003e \u003ctd\u003e 2701.618\u003c/td\u003e \u003ctd\u003e 2751.714\u003c/td\u003e\n",
              "\u003c/tr\u003e\n",
              "\u003c/table\u003e\n",
              "\u003ctable class\u003d\"simpletable\"\u003e\n",
              "\u003ctr\u003e\n",
              "  \u003cth\u003eOmnibus:\u003c/th\u003e       \u003ctd\u003e158404.744\u003c/td\u003e \u003cth\u003e  Durbin-Watson:     \u003c/th\u003e  \u003ctd\u003e   0.558\u003c/td\u003e \n",
              "\u003c/tr\u003e\n",
              "\u003ctr\u003e\n",
              "  \u003cth\u003eProb(Omnibus):\u003c/th\u003e   \u003ctd\u003e 0.000\u003c/td\u003e   \u003cth\u003e  Jarque-Bera (JB):  \u003c/th\u003e \u003ctd\u003e749108.497\u003c/td\u003e\n",
              "\u003c/tr\u003e\n",
              "\u003ctr\u003e\n",
              "  \u003cth\u003eSkew:\u003c/th\u003e            \u003ctd\u003e 1.444\u003c/td\u003e   \u003cth\u003e  Prob(JB):          \u003c/th\u003e  \u003ctd\u003e    0.00\u003c/td\u003e \n",
              "\u003c/tr\u003e\n",
              "\u003ctr\u003e\n",
              "  \u003cth\u003eKurtosis:\u003c/th\u003e        \u003ctd\u003e 8.188\u003c/td\u003e   \u003cth\u003e  Cond. No.          \u003c/th\u003e  \u003ctd\u003e4.95e+04\u003c/td\u003e \n",
              "\u003c/tr\u003e\n",
              "\u003c/table\u003e\u003cbr/\u003e\u003cbr/\u003eWarnings:\u003cbr/\u003e[1] Standard Errors assume that the covariance matrix of the errors is correctly specified.\u003cbr/\u003e[2] The condition number is large, 4.95e+04. This might indicate that there are\u003cbr/\u003estrong multicollinearity or other numerical problems."
            ],
            "text/plain": [
              "\u003cclass \u0027statsmodels.iolib.summary.Summary\u0027\u003e\n",
              "\"\"\"\n",
              "                            OLS Regression Results                            \n",
              "\u003d\u003d\u003d\u003d\u003d\u003d\u003d\u003d\u003d\u003d\u003d\u003d\u003d\u003d\u003d\u003d\u003d\u003d\u003d\u003d\u003d\u003d\u003d\u003d\u003d\u003d\u003d\u003d\u003d\u003d\u003d\u003d\u003d\u003d\u003d\u003d\u003d\u003d\u003d\u003d\u003d\u003d\u003d\u003d\u003d\u003d\u003d\u003d\u003d\u003d\u003d\u003d\u003d\u003d\u003d\u003d\u003d\u003d\u003d\u003d\u003d\u003d\u003d\u003d\u003d\u003d\u003d\u003d\u003d\u003d\u003d\u003d\u003d\u003d\u003d\u003d\u003d\u003d\n",
              "Dep. Variable:            final_price   R-squared:                       0.482\n",
              "Model:                            OLS   Adj. R-squared:                  0.482\n",
              "Method:                 Least Squares   F-statistic:                 5.283e+04\n",
              "Date:                Mon, 08 Apr 2019   Prob (F-statistic):               0.00\n",
              "Time:                        21:14:21   Log-Likelihood:            -7.4369e+06\n",
              "No. Observations:              510043   AIC:                         1.487e+07\n",
              "Df Residuals:                  510033   BIC:                         1.487e+07\n",
              "Df Model:                           9                                         \n",
              "Covariance Type:            nonrobust                                         \n",
              "\u003d\u003d\u003d\u003d\u003d\u003d\u003d\u003d\u003d\u003d\u003d\u003d\u003d\u003d\u003d\u003d\u003d\u003d\u003d\u003d\u003d\u003d\u003d\u003d\u003d\u003d\u003d\u003d\u003d\u003d\u003d\u003d\u003d\u003d\u003d\u003d\u003d\u003d\u003d\u003d\u003d\u003d\u003d\u003d\u003d\u003d\u003d\u003d\u003d\u003d\u003d\u003d\u003d\u003d\u003d\u003d\u003d\u003d\u003d\u003d\u003d\u003d\u003d\u003d\u003d\u003d\u003d\u003d\u003d\u003d\u003d\u003d\u003d\u003d\u003d\u003d\u003d\u003d\u003d\u003d\u003d\u003d\u003d\u003d\n",
              "                       coef    std err          t      P\u003e|t|      [0.025      0.975]\n",
              "------------------------------------------------------------------------------------\n",
              "const            -1.878e+05   6723.760    -27.930      0.000   -2.01e+05   -1.75e+05\n",
              "sale_day           114.5232      0.589    194.274      0.000     113.368     115.679\n",
              "street_name         -8.8442      0.654    -13.523      0.000     -10.126      -7.562\n",
              "street_number       11.9401      1.948      6.128      0.000       8.121      15.759\n",
              "property_type    -1.054e+04    711.387    -14.816      0.000   -1.19e+04   -9145.374\n",
              "rooms_number      2.082e+04    664.967     31.308      0.000    1.95e+04    2.21e+04\n",
              "floor             2.162e+04    229.791     94.101      0.000    2.12e+04    2.21e+04\n",
              "build_year_class -1.572e+05   1605.901    -97.886      0.000    -1.6e+05   -1.54e+05\n",
              "building_mr       8598.8165     40.239    213.693      0.000    8519.949    8677.684\n",
              "city              2726.6664     12.780    213.358      0.000    2701.618    2751.714\n",
              "\u003d\u003d\u003d\u003d\u003d\u003d\u003d\u003d\u003d\u003d\u003d\u003d\u003d\u003d\u003d\u003d\u003d\u003d\u003d\u003d\u003d\u003d\u003d\u003d\u003d\u003d\u003d\u003d\u003d\u003d\u003d\u003d\u003d\u003d\u003d\u003d\u003d\u003d\u003d\u003d\u003d\u003d\u003d\u003d\u003d\u003d\u003d\u003d\u003d\u003d\u003d\u003d\u003d\u003d\u003d\u003d\u003d\u003d\u003d\u003d\u003d\u003d\u003d\u003d\u003d\u003d\u003d\u003d\u003d\u003d\u003d\u003d\u003d\u003d\u003d\u003d\u003d\u003d\n",
              "Omnibus:                   158404.744   Durbin-Watson:                   0.558\n",
              "Prob(Omnibus):                  0.000   Jarque-Bera (JB):           749108.497\n",
              "Skew:                           1.444   Prob(JB):                         0.00\n",
              "Kurtosis:                       8.188   Cond. No.                     4.95e+04\n",
              "\u003d\u003d\u003d\u003d\u003d\u003d\u003d\u003d\u003d\u003d\u003d\u003d\u003d\u003d\u003d\u003d\u003d\u003d\u003d\u003d\u003d\u003d\u003d\u003d\u003d\u003d\u003d\u003d\u003d\u003d\u003d\u003d\u003d\u003d\u003d\u003d\u003d\u003d\u003d\u003d\u003d\u003d\u003d\u003d\u003d\u003d\u003d\u003d\u003d\u003d\u003d\u003d\u003d\u003d\u003d\u003d\u003d\u003d\u003d\u003d\u003d\u003d\u003d\u003d\u003d\u003d\u003d\u003d\u003d\u003d\u003d\u003d\u003d\u003d\u003d\u003d\u003d\u003d\n",
              "\n",
              "Warnings:\n",
              "[1] Standard Errors assume that the covariance matrix of the errors is correctly specified.\n",
              "[2] The condition number is large, 4.95e+04. This might indicate that there are\n",
              "strong multicollinearity or other numerical problems.\n",
              "\"\"\""
            ]
          },
          "execution_count": 24,
          "metadata": {},
          "output_type": "execute_result"
        }
      ],
      "source": [
        "import statsmodels.api as sm\n",
        "X_constant \u003d sm.add_constant(X)\n",
        "model \u003d sm.OLS(y, X_constant)\n",
        "lin_reg \u003d model.fit()\n",
        "lin_reg.summary()"
      ]
    },
    {
      "cell_type": "code",
      "execution_count": null,
      "metadata": {
        "pycharm": {}
      },
      "outputs": [],
      "source": []
    }
  ],
  "metadata": {
    "kernelspec": {
      "display_name": "Python 3",
      "language": "python",
      "name": "python3"
    },
    "language_info": {
      "codemirror_mode": {
        "name": "ipython",
        "version": 3
      },
      "file_extension": ".py",
      "mimetype": "text/x-python",
      "name": "python",
      "nbconvert_exporter": "python",
      "pygments_lexer": "ipython3",
      "version": "3.7.3"
    }
  },
  "nbformat": 4,
  "nbformat_minor": 1
}