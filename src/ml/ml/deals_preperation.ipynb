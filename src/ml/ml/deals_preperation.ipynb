{
  "cells": [
    {
      "cell_type": "code",
      "execution_count": 41,
      "outputs": [],
      "source": "\nimport warnings\n\nimport pandas as pd\n%matplotlib inline\n\nwarnings.filterwarnings(\"ignore\")",
      "metadata": {
        "pycharm": {
          "metadata": false,
          "name": "#%%\n",
          "is_executing": false
        }
      }
    },
    {
      "cell_type": "code",
      "execution_count": 42,
      "outputs": [
        {
          "name": "stdout",
          "text": [
            "Index([\u0027_id\u0027, \u0027sale_day\u0027, \u0027address\u0027, \u0027property_type\u0027, \u0027rooms_number\u0027, \u0027floor\u0027,\n       \u0027build_year\u0027, \u0027building_mr\u0027, \u0027sold_part\u0027, \u0027full_price\u0027, \u0027city\u0027],\n      dtype\u003d\u0027object\u0027)\n(517569, 11)\n"
          ],
          "output_type": "stream"
        }
      ],
      "source": "try:\n    df \u003d pd.read_csv(\"data/data_deals.csv\")\n    df.drop(columns\u003d[\u0027_id\u0027])\n    print(df.columns)\n    print(df.shape)\nexcept Exception:\n    print(\"Seems we have a problem\")\n",
      "metadata": {
        "pycharm": {
          "metadata": false,
          "name": "#%%\n",
          "is_executing": false
        }
      }
    },
    {
      "cell_type": "code",
      "execution_count": 43,
      "outputs": [
        {
          "name": "stdout",
          "text": [
            "                        _id   sale_day        address    property_type  \\\n0  5cab7d497e16a98c7a79bd4a 2018-12-25  יונה הנביא 36  דירה בבית קומות   \n\n   rooms_number floor build_year  building_mr sold_part   full_price  \\\n0           5.0  קרקע 2017-01-01          126       NaN  5,470,085 ₪   \n\n          city  \n0  תל אביב יפו  \n"
          ],
          "output_type": "stream"
        }
      ],
      "source": "# sale_day \"05-06-2016\"\n# build_year \"2017\"\ndf[\u0027sale_day\u0027] \u003d pd.to_datetime(df[\u0027sale_day\u0027], format\u003d\"%d-%m-%Y\")\ndf[\u0027build_year\u0027] \u003d pd.to_datetime(df[\u0027build_year\u0027], format\u003d\"%Y\")\nprint(df.head(1))\n",
      "metadata": {
        "pycharm": {
          "metadata": false,
          "name": "#%%\n",
          "is_executing": false
        }
      }
    },
    {
      "cell_type": "code",
      "execution_count": 44,
      "outputs": [
        {
          "data": {
            "text/plain": "(321628, 11)"
          },
          "metadata": {},
          "output_type": "execute_result",
          "execution_count": 44
        }
      ],
      "source": "# remove properties that their date is before 2010\nfrom_year \u003d 2010\ndf \u003d df.loc[(df[\u0027sale_day\u0027].dt.year \u003e\u003d from_year)]\ndf.shape",
      "metadata": {
        "pycharm": {
          "metadata": false,
          "name": "#%%\n",
          "is_executing": false
        }
      }
    },
    {
      "cell_type": "code",
      "execution_count": 45,
      "outputs": [
        {
          "data": {
            "text/plain": "(321628, 11)"
          },
          "metadata": {},
          "output_type": "execute_result",
          "execution_count": 45
        }
      ],
      "source": "# List unique values in the df[\u0027name\u0027] column\ncols \u003d [\u0027full_price\u0027, \u0027sold_part\u0027, \u0027floor\u0027]\nfor col in cols:\n    try:\n        df.replace({col: {\u0027₪\u0027: \u0027\u0027,\n                          \u0027\\$\u0027: \u0027\u0027,\n                          \u0027קרקע\u0027: 0,\n                          \u0027לא צוין מחיר\u0027: None,\n                          \u0027לא צוין\u0027: None,\n                          \u0027,\u0027: \u0027\u0027,\n                          \u0027%\u0027: \u0027\u0027,\n                          \u0027 \u0027: \u0027\u0027}}, regex\u003dTrue, inplace\u003dTrue)\n    except TypeError:\n        # in case of double replacement\n        pass\ndf.shape",
      "metadata": {
        "pycharm": {
          "metadata": false,
          "name": "#%%\n",
          "is_executing": false
        }
      }
    },
    {
      "cell_type": "code",
      "execution_count": 46,
      "outputs": [],
      "source": "# remove sale date \u0027day\u0027 value\ndf[\u0027sale_day\u0027] \u003d df[\u0027sale_day\u0027]\ndf[\u0027sale_day_year\u0027] \u003d df[\u0027sale_day\u0027].apply(lambda x: x.strftime(\u0027%Y\u0027))\ndf[\u0027sale_day_month\u0027] \u003d df[\u0027sale_day\u0027].apply(lambda x: x.strftime(\u0027%m\u0027))",
      "metadata": {
        "pycharm": {
          "metadata": false,
          "name": "#%%\n",
          "is_executing": false
        }
      }
    },
    {
      "cell_type": "code",
      "execution_count": 47,
      "outputs": [
        {
          "data": {
            "text/plain": "count    3.192810e+05\nmean     1.265348e+06\nstd      1.062363e+06\nmin      2.000000e+00\n25%      6.600000e+05\n50%      1.100000e+06\n75%      1.600000e+06\nmax      1.322710e+08\nName: full_price, dtype: float64"
          },
          "metadata": {},
          "output_type": "execute_result",
          "execution_count": 47
        }
      ],
      "source": "# Getting Description\ndf \u003d df[pd.notnull(df[\u0027floor\u0027])]\ndf[\u0027floor\u0027] \u003d df[\u0027floor\u0027].astype(int)\ndf[\u0027rooms_number\u0027] \u003d df[\u0027rooms_number\u0027].astype(int)\ndf[\u0027full_price\u0027] \u003d df[\u0027full_price\u0027].astype(int)\ndf[\u0027full_price\u0027].describe()",
      "metadata": {
        "pycharm": {
          "metadata": false,
          "name": "#%%\n",
          "is_executing": false
        }
      }
    },
    {
      "cell_type": "code",
      "execution_count": 48,
      "outputs": [],
      "source": "\nsplit_data \u003d df[\u0027address\u0027].str.rsplit(n\u003d1, expand\u003dTrue)\ndf[\u0027street_name\u0027] \u003d split_data[0]\ndf[\u0027street_number\u0027] \u003d split_data[1]\n",
      "metadata": {
        "pycharm": {
          "metadata": false,
          "name": "#%%\n",
          "is_executing": false
        }
      }
    },
    {
      "cell_type": "code",
      "execution_count": 49,
      "outputs": [
        {
          "name": "stdout",
          "text": [
            "                        _id   sale_day        address    property_type  \\\n0  5cab7d497e16a98c7a79bd4a 2018-12-25  יונה הנביא 36  דירה בבית קומות   \n1  5cab7d497e16a98c7a79bd4b 2018-12-07  יונה הנביא 25  דירה בבית קומות   \n2  5cab7d497e16a98c7a79bd4c 2018-05-10  יונה הנביא 26  דירה בבית קומות   \n3  5cab7d497e16a98c7a79bd4d 2018-01-24  יונה הנביא 24  דירה בבית קומות   \n4  5cab7d497e16a98c7a79bd4e 2017-09-13  יונה הנביא 26  דירה בבית קומות   \n\n   rooms_number  floor build_year  building_mr         city sale_day_year  \\\n0             5      0 2017-01-01          126  תל אביב יפו          2018   \n1             3      1 2018-01-01           78  תל אביב יפו          2018   \n2             3      0 1950-01-01           58  תל אביב יפו          2018   \n3             1      1 1960-01-01           23  תל אביב יפו          2018   \n4             2      1 1930-01-01           58  תל אביב יפו          2017   \n\n  sale_day_month street_name street_number  final_price  \n0             12  יונה הנביא            36      5470085  \n1             12  יונה הנביא            25      4100000  \n2             05  יונה הנביא            26      2900000  \n3             01  יונה הנביא            24      1101258  \n4             09  יונה הנביא            26      2500000  \n"
          ],
          "output_type": "stream"
        }
      ],
      "source": "# format sold_part to full_price\ndf[\u0027sold_part\u0027] \u003d df[\u0027sold_part\u0027].astype(float)\ndf[\u0027sold_part\u0027].fillna(100, inplace\u003dTrue)\ndf[\u0027final_price\u0027] \u003d (100 / df[\u0027sold_part\u0027]) * df[\u0027full_price\u0027]\ndf[\u0027final_price\u0027] \u003d df[\u0027final_price\u0027].astype(int)\ndf.drop(columns\u003d[\u0027sold_part\u0027, \u0027full_price\u0027], inplace\u003dTrue)\nprint(df.head(5))\n",
      "metadata": {
        "pycharm": {
          "metadata": false,
          "name": "#%%\n",
          "is_executing": false
        }
      }
    },
    {
      "cell_type": "code",
      "execution_count": 50,
      "outputs": [],
      "source": "# remove properties that their price is too low or too high\nmin_price \u003d 100000\nmax_price \u003d 25000000",
      "metadata": {
        "pycharm": {
          "metadata": false,
          "name": "#%%\n",
          "is_executing": false
        }
      }
    },
    {
      "cell_type": "code",
      "execution_count": 51,
      "outputs": [
        {
          "data": {
            "text/plain": "(319055, 14)"
          },
          "metadata": {},
          "output_type": "execute_result",
          "execution_count": 51
        }
      ],
      "source": "# remove properties that their price is too low or too high\ndf \u003d df.loc[(min_price \u003c df[\u0027final_price\u0027]) \u0026 (df[\u0027final_price\u0027] \u003c max_price)]\ndf.shape",
      "metadata": {
        "pycharm": {
          "metadata": false,
          "name": "#%%\n",
          "is_executing": false
        }
      }
    },
    {
      "cell_type": "code",
      "execution_count": 52,
      "outputs": [],
      "source": "df.to_csv(\u0027data/data_deals_done.csv\u0027, encoding\u003d\u0027utf-8\u0027, index\u003dFalse)",
      "metadata": {
        "pycharm": {
          "metadata": false,
          "name": "#%%\n",
          "is_executing": false
        }
      }
    },
    {
      "cell_type": "code",
      "execution_count": null,
      "outputs": [],
      "source": "\n",
      "metadata": {
        "pycharm": {
          "metadata": false,
          "name": "#%%\n"
        }
      }
    }
  ],
  "metadata": {
    "kernelspec": {
      "display_name": "PyCharm (final-project)",
      "language": "python",
      "name": "pycharm-968a876d"
    },
    "language_info": {
      "codemirror_mode": {
        "name": "ipython",
        "version": 3
      },
      "file_extension": ".py",
      "mimetype": "text/x-python",
      "name": "python",
      "nbconvert_exporter": "python",
      "pygments_lexer": "ipython3",
      "version": "3.6.8"
    },
    "stem_cell": {
      "cell_type": "raw",
      "source": "",
      "metadata": {
        "pycharm": {
          "metadata": false
        }
      }
    }
  },
  "nbformat": 4,
  "nbformat_minor": 1
}