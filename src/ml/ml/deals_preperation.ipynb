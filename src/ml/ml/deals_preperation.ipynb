{
 "cells": [
  {
   "cell_type": "code",
   "execution_count": 1,
   "metadata": {
    "pycharm": {
     "is_executing": false,
     "metadata": false,
     "name": "#%%\n"
    }
   },
   "outputs": [],
   "source": [
    "import pandas as pd\n"
   ]
  },
  {
   "cell_type": "code",
   "execution_count": 2,
   "metadata": {
    "pycharm": {
     "is_executing": false,
     "metadata": false,
     "name": "#%%\n"
    }
   },
   "outputs": [
    {
     "name": "stdout",
     "output_type": "stream",
     "text": [
      "Index(['_id', 'sale_day', 'address', 'property_type', 'rooms_number', 'floor',\n",
      "       'build_year', 'building_mr', 'sold_part', 'full_price', 'city'],\n",
      "      dtype='object')\n",
      "(517569, 11)\n"
     ]
    }
   ],
   "source": [
    "try:\n",
    "    df = pd.read_csv(\"data/data_deals.csv\")\n",
    "    df.drop(columns=['_id'])\n",
    "    print(df.columns)\n",
    "    print(df.shape)\n",
    "except Exception:\n",
    "    print(\"Seems we have a problem\")\n"
   ]
  },
  {
   "cell_type": "code",
   "execution_count": 3,
   "metadata": {
    "pycharm": {
     "is_executing": false,
     "metadata": false,
     "name": "#%%\n"
    }
   },
   "outputs": [
    {
     "name": "stdout",
     "output_type": "stream",
     "text": [
      "                        _id   sale_day        address    property_type  \\\n",
      "0  5cab7d497e16a98c7a79bd4a 2018-12-25  יונה הנביא 36  דירה בבית קומות   \n",
      "\n",
      "   rooms_number floor build_year  building_mr sold_part   full_price  \\\n",
      "0           5.0  קרקע 2017-01-01          126       NaN  5,470,085 ₪   \n",
      "\n",
      "          city  \n",
      "0  תל אביב יפו  \n"
     ]
    }
   ],
   "source": [
    "# sale_day \"05-06-2016\"\n",
    "# build_year \"2017\"\n",
    "df['sale_day'] = pd.to_datetime(df['sale_day'], format=\"%d-%m-%Y\")\n",
    "df['build_year'] = pd.to_datetime(df['build_year'], format=\"%Y\")\n",
    "print(df.head(1))\n"
   ]
  },
  {
   "cell_type": "code",
   "execution_count": 4,
   "metadata": {
    "pycharm": {
     "is_executing": false,
     "metadata": false,
     "name": "#%%\n"
    }
   },
   "outputs": [
    {
     "data": {
      "text/plain": [
       "(321628, 11)"
      ]
     },
     "execution_count": 4,
     "metadata": {},
     "output_type": "execute_result"
    }
   ],
   "source": [
    "# remove properties that their date is before 2010\n",
    "from_year = 2010\n",
    "df = df.loc[(df['sale_day'].dt.year >= from_year)]\n",
    "df.shape\n"
   ]
  },
  {
   "cell_type": "code",
   "execution_count": 5,
   "metadata": {},
   "outputs": [
    {
     "data": {
      "text/plain": [
       "(311848, 11)"
      ]
     },
     "execution_count": 5,
     "metadata": {},
     "output_type": "execute_result"
    }
   ],
   "source": [
    "# remove rows that their build_year is before 1945\n",
    "from_year = 1945\n",
    "df = df.loc[(df['build_year'].dt.year >= from_year)]\n",
    "df['build_year'] = df['build_year'].apply(lambda x: x.strftime('%Y')).astype(int)\n",
    "df.shape"
   ]
  },
  {
   "cell_type": "code",
   "execution_count": 6,
   "metadata": {
    "pycharm": {
     "is_executing": false,
     "metadata": false,
     "name": "#%%\n"
    }
   },
   "outputs": [],
   "source": [
    "\n",
    "split_data = df['address'].str.rsplit(n=1, expand=True)\n",
    "df['street'] = split_data[0]\n",
    "df['street_number'] = split_data[1]\n"
   ]
  },
  {
   "cell_type": "code",
   "execution_count": 7,
   "metadata": {
    "pycharm": {
     "is_executing": false,
     "metadata": false,
     "name": "#%%\n"
    }
   },
   "outputs": [
    {
     "name": "stdout",
     "output_type": "stream",
     "text": [
      "Index(['street', 'city', 'neighborhood', 'address_area',\n",
      "       'address_neighborhood'],\n",
      "      dtype='object')\n",
      "(10971, 5)\n"
     ]
    },
    {
     "data": {
      "text/plain": [
       "(306832, 16)"
      ]
     },
     "execution_count": 7,
     "metadata": {},
     "output_type": "execute_result"
    }
   ],
   "source": [
    "try:\n",
    "    nmap = pd.read_csv(\"data/map_address_neighborhood.csv\")\n",
    "    print(nmap.columns)\n",
    "    print(nmap.shape)\n",
    "except Exception:\n",
    "    print(\"Seems we have a problem\")\n",
    "\n",
    "\n",
    "df = pd.merge(df, nmap,  how='inner', on=['city', 'street'])\n",
    "\n",
    "df.shape\n"
   ]
  },
  {
   "cell_type": "code",
   "execution_count": 8,
   "metadata": {
    "pycharm": {
     "is_executing": false,
     "metadata": false,
     "name": "#%%\n"
    }
   },
   "outputs": [
    {
     "data": {
      "text/plain": [
       "(306832, 16)"
      ]
     },
     "execution_count": 8,
     "metadata": {},
     "output_type": "execute_result"
    }
   ],
   "source": [
    "# List unique values in the df['name'] column\n",
    "cols = ['full_price', 'sold_part', 'floor']\n",
    "for col in cols:\n",
    "    try:\n",
    "        df.replace({col: {'₪': '',\n",
    "                          '\\$': '',\n",
    "                          'קרקע': 0,\n",
    "                          'לא צוין מחיר': None,\n",
    "                          'לא צוין': None,\n",
    "                          ',': '',\n",
    "                          '%': '',\n",
    "                          ' ': ''}}, regex=True, inplace=True)\n",
    "    except TypeError:\n",
    "        # in case of double replacement\n",
    "        pass\n",
    "df.shape"
   ]
  },
  {
   "cell_type": "code",
   "execution_count": 9,
   "metadata": {
    "pycharm": {
     "is_executing": false,
     "metadata": false,
     "name": "#%%\n"
    }
   },
   "outputs": [],
   "source": [
    "# remove sale date 'day' value\n",
    "df['sale_day'] = df['sale_day']\n",
    "df['sale_day_year'] = df['sale_day'].apply(lambda x: x.strftime('%Y')).astype(int)\n",
    "df['sale_day_month'] = df['sale_day'].apply(lambda x: x.strftime('%m')).astype(int)"
   ]
  },
  {
   "cell_type": "code",
   "execution_count": 10,
   "metadata": {
    "pycharm": {
     "is_executing": false,
     "metadata": false,
     "name": "#%%\n"
    }
   },
   "outputs": [
    {
     "data": {
      "text/plain": [
       "count    3.046380e+05\n",
       "mean     1.279830e+06\n",
       "std      1.071040e+06\n",
       "min      2.000000e+00\n",
       "25%      6.800000e+05\n",
       "50%      1.109000e+06\n",
       "75%      1.619000e+06\n",
       "max      1.322710e+08\n",
       "Name: full_price, dtype: float64"
      ]
     },
     "execution_count": 10,
     "metadata": {},
     "output_type": "execute_result"
    }
   ],
   "source": [
    "# Getting Description\n",
    "df = df[pd.notnull(df['floor'])]\n",
    "df['floor'] = df['floor'].astype(int)\n",
    "df['building_mr'] = df['building_mr'].astype(int)\n",
    "df['rooms_number'] = df['rooms_number'].astype(int)\n",
    "df['full_price'] = df['full_price'].astype(int)\n",
    "df['full_price'].describe()\n"
   ]
  },
  {
   "cell_type": "code",
   "execution_count": 11,
   "metadata": {
    "pycharm": {
     "is_executing": false,
     "metadata": false,
     "name": "#%%\n"
    }
   },
   "outputs": [
    {
     "name": "stdout",
     "output_type": "stream",
     "text": [
      "                        _id   sale_day        address    property_type  \\\n",
      "0  5cab7d497e16a98c7a79bd4a 2018-12-25  יונה הנביא 36  דירה בבית קומות   \n",
      "1  5cab7d497e16a98c7a79bd4b 2018-12-07  יונה הנביא 25  דירה בבית קומות   \n",
      "2  5cab7d497e16a98c7a79bd4c 2018-05-10  יונה הנביא 26  דירה בבית קומות   \n",
      "3  5cab7d497e16a98c7a79bd4d 2018-01-24  יונה הנביא 24  דירה בבית קומות   \n",
      "4  5cab7d497e16a98c7a79bd4f 2017-08-03  יונה הנביא 20  דירה בבית קומות   \n",
      "\n",
      "   rooms_number  floor  build_year  building_mr         city      street  \\\n",
      "0             5      0        2017          126  תל אביב יפו  יונה הנביא   \n",
      "1             3      1        2018           78  תל אביב יפו  יונה הנביא   \n",
      "2             3      0        1950           58  תל אביב יפו  יונה הנביא   \n",
      "3             1      1        1960           23  תל אביב יפו  יונה הנביא   \n",
      "4             3      1        1999           68  תל אביב יפו  יונה הנביא   \n",
      "\n",
      "  street_number neighborhood address_area address_neighborhood  sale_day_year  \\\n",
      "0            36  כרם התימנים          NaN                  NaN           2018   \n",
      "1            25  כרם התימנים          NaN                  NaN           2018   \n",
      "2            26  כרם התימנים          NaN                  NaN           2018   \n",
      "3            24  כרם התימנים          NaN                  NaN           2018   \n",
      "4            20  כרם התימנים          NaN                  NaN           2017   \n",
      "\n",
      "   sale_day_month  final_price  \n",
      "0              12      5470085  \n",
      "1              12      4100000  \n",
      "2               5      2900000  \n",
      "3               1      1101258  \n",
      "4               8      3370000  \n"
     ]
    }
   ],
   "source": [
    "# format sold_part to full_price\n",
    "df['sold_part'] = df['sold_part'].astype(float)\n",
    "df['sold_part'].fillna(100, inplace=True)\n",
    "df['final_price'] = (100 / df['sold_part']) * df['full_price']\n",
    "df['final_price'] = df['final_price'].astype(int)\n",
    "df.drop(columns=['sold_part', 'full_price'], inplace=True)\n",
    "print(df.head(5))\n"
   ]
  },
  {
   "cell_type": "code",
   "execution_count": 12,
   "metadata": {
    "pycharm": {
     "is_executing": false,
     "metadata": false,
     "name": "#%%\n"
    }
   },
   "outputs": [],
   "source": [
    "# remove properties that their price is too low or too high\n",
    "min_price = 100000\n",
    "max_price = 25000000"
   ]
  },
  {
   "cell_type": "code",
   "execution_count": 13,
   "metadata": {
    "pycharm": {
     "is_executing": false,
     "metadata": false,
     "name": "#%%\n"
    }
   },
   "outputs": [
    {
     "data": {
      "text/plain": [
       "(304431, 17)"
      ]
     },
     "execution_count": 13,
     "metadata": {},
     "output_type": "execute_result"
    }
   ],
   "source": [
    "# remove properties that their price is too low or too high\n",
    "df = df.loc[(min_price < df['final_price']) & (df['final_price'] < max_price)]\n",
    "df.shape"
   ]
  },
  {
   "cell_type": "code",
   "execution_count": 14,
   "metadata": {
    "pycharm": {
     "is_executing": false,
     "metadata": false,
     "name": "#%%\n"
    }
   },
   "outputs": [],
   "source": [
    "# Sort the rows of dataframe by column 'final_price' inplace\n",
    "df.sort_values(by='final_price' , inplace=True, ascending=False)"
   ]
  },
  {
   "cell_type": "code",
   "execution_count": 15,
   "metadata": {
    "pycharm": {
     "is_executing": false,
     "metadata": false,
     "name": "#%%\n"
    }
   },
   "outputs": [],
   "source": [
    "df.to_csv('data/data_deals_done.csv', encoding='utf-8', index=False)"
   ]
  },
  {
   "cell_type": "code",
   "execution_count": null,
   "metadata": {
    "pycharm": {
     "metadata": false,
     "name": "#%%\n"
    }
   },
   "outputs": [],
   "source": [
    "\n"
   ]
  }
 ],
 "metadata": {
  "kernelspec": {
   "display_name": "PyCharm (final-project)",
   "language": "python",
   "name": "pycharm-968a876d"
  },
  "language_info": {
   "codemirror_mode": {
    "name": "ipython",
    "version": 3
   },
   "file_extension": ".py",
   "mimetype": "text/x-python",
   "name": "python",
   "nbconvert_exporter": "python",
   "pygments_lexer": "ipython3",
   "version": "3.6.8"
  },
  "stem_cell": {
   "cell_type": "raw",
   "metadata": {
    "pycharm": {
     "metadata": false
    }
   },
   "source": ""
  }
 },
 "nbformat": 4,
 "nbformat_minor": 1
}
