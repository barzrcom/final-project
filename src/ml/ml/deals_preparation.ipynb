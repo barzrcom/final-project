{
 "cells": [
  {
   "cell_type": "markdown",
   "metadata": {},
   "source": [
    "# Data Preparation"
   ]
  },
  {
   "cell_type": "markdown",
   "metadata": {},
   "source": [
    "## Import the Data"
   ]
  },
  {
   "cell_type": "code",
   "execution_count": 1,
   "metadata": {
    "pycharm": {
     "is_executing": false,
     "metadata": false,
     "name": "#%%\n"
    }
   },
   "outputs": [],
   "source": [
    "import pandas as pd\n"
   ]
  },
  {
   "cell_type": "code",
   "execution_count": 2,
   "metadata": {
    "pycharm": {
     "is_executing": false,
     "metadata": false,
     "name": "#%%\n"
    }
   },
   "outputs": [],
   "source": [
    "try:\n",
    "    df = pd.read_csv(\"data/data_deals.csv\")\n",
    "except Exception:\n",
    "    print(\"Seems we have a problem\")\n"
   ]
  },
  {
   "cell_type": "code",
   "execution_count": 3,
   "metadata": {},
   "outputs": [
    {
     "name": "stdout",
     "output_type": "stream",
     "text": [
      "File Columns are: Index(['_id', 'sale_day', 'address', 'property_type', 'rooms_number', 'floor',\n",
      "       'build_year', 'building_mr', 'sold_part', 'full_price', 'city'],\n",
      "      dtype='object')\n",
      "Number of rows: 517569\n"
     ]
    }
   ],
   "source": [
    "print(\"File Columns are:\", df.columns)\n",
    "print(\"Number of rows:\", df.shape[0])"
   ]
  },
  {
   "cell_type": "markdown",
   "metadata": {},
   "source": [
    "## Data Modification and CleanUps"
   ]
  },
  {
   "cell_type": "markdown",
   "metadata": {},
   "source": [
    "### Date Formating\n",
    "Convert all the dates strings into Pandas datetime object"
   ]
  },
  {
   "cell_type": "code",
   "execution_count": 4,
   "metadata": {
    "pycharm": {
     "is_executing": false,
     "metadata": false,
     "name": "#%%\n"
    }
   },
   "outputs": [],
   "source": [
    "# sale_day \"05-06-2016\"\n",
    "# build_year \"2017\"\n",
    "df['sale_day'] = pd.to_datetime(df['sale_day'], format=\"%d-%m-%Y\")\n",
    "df['build_year'] = pd.to_datetime(df['build_year'], format=\"%Y\")\n"
   ]
  },
  {
   "cell_type": "markdown",
   "metadata": {},
   "source": [
    "### Removing Un-necessary Data\n",
    "Remvove all properties that are:\n",
    "1. Price is not in NIS or N/A\n",
    "2. build_year is before 1945 (Data before that is not relevant)\n",
    "3. Floor is not N/A\n",
    "4. Property Type is only euqal to: דירה בבית קומות, דירת מגורים"
   ]
  },
  {
   "cell_type": "code",
   "execution_count": 5,
   "metadata": {},
   "outputs": [
    {
     "name": "stdout",
     "output_type": "stream",
     "text": [
      "Number of rows: 501996\n"
     ]
    }
   ],
   "source": [
    "# remove rows that their build_year is before 1945\n",
    "from_year = 1945\n",
    "df = df.loc[(df['build_year'].dt.year >= from_year)]\n",
    "df['build_year'] = df['build_year'].apply(lambda x: x.strftime('%Y')).astype(int)\n",
    "print(\"Number of rows:\", df.shape[0])\n"
   ]
  },
  {
   "cell_type": "code",
   "execution_count": 6,
   "metadata": {},
   "outputs": [],
   "source": [
    "# remove rows that their property_type is not in list\n",
    "# valid_values = [\"דירה בבית קומות\", \"דירת מגורים\"]\n",
    "# df = df[df['property_type'].isin(valid_values)]\n",
    "# print(\"Number of rows:\", df.shape[0])"
   ]
  },
  {
   "cell_type": "code",
   "execution_count": 7,
   "metadata": {
    "pycharm": {
     "is_executing": false,
     "metadata": false,
     "name": "#%%\n"
    }
   },
   "outputs": [],
   "source": [
    "# List unique values in the df['name'] column\n",
    "cols = ['full_price', 'sold_part', 'floor']\n",
    "for col in cols:\n",
    "    try:\n",
    "        df.replace({col: {'₪': '',\n",
    "                          '\\$': '',\n",
    "                          'קרקע': 0,\n",
    "                          'לא צוין מחיר': None,\n",
    "                          'לא צוין': None,\n",
    "                          ',': '',\n",
    "                          '%': '',\n",
    "                          ' ': ''}}, regex=True, inplace=True)\n",
    "    except TypeError:\n",
    "        # in case of double replacement\n",
    "        pass\n"
   ]
  },
  {
   "cell_type": "code",
   "execution_count": 8,
   "metadata": {
    "pycharm": {
     "is_executing": false,
     "metadata": false,
     "name": "#%%\n"
    }
   },
   "outputs": [
    {
     "name": "stdout",
     "output_type": "stream",
     "text": [
      "Number of rows: 499717\n"
     ]
    }
   ],
   "source": [
    "# keep only floors that are with values\n",
    "df = df[pd.notnull(df['floor'])]\n",
    "print(\"Number of rows:\", df.shape[0])\n",
    "\n",
    "# format values to their types\n",
    "df['rooms_number'] = df['rooms_number'].astype(float)\n",
    "df['floor'] = df['floor'].astype(int)\n",
    "df['building_mr'] = df['building_mr'].astype(int)\n",
    "df['full_price'] = df['full_price'].astype(int)\n"
   ]
  },
  {
   "cell_type": "code",
   "execution_count": 9,
   "metadata": {},
   "outputs": [
    {
     "name": "stdout",
     "output_type": "stream",
     "text": [
      "Number of rows: 491412\n"
     ]
    }
   ],
   "source": [
    "# remove properties that their:\n",
    "#     mr is more than 200\n",
    "#     floor is more than 20\n",
    "#     rooms is more than 7\n",
    "from_mr = 200\n",
    "from_floor = 20\n",
    "from_room = 7.0\n",
    "\n",
    "df = df.loc[(df['building_mr'] <= from_mr) & (df['floor'] <= from_floor) & (df['rooms_number'] <= from_room)]\n",
    "print(\"Number of rows:\", df.shape[0])\n"
   ]
  },
  {
   "cell_type": "markdown",
   "metadata": {},
   "source": [
    "## Calculate the final price column\n",
    "There are cases that only part of the property was bought (value by percentage)"
   ]
  },
  {
   "cell_type": "code",
   "execution_count": 10,
   "metadata": {
    "pycharm": {
     "is_executing": false,
     "metadata": false,
     "name": "#%%\n"
    }
   },
   "outputs": [
    {
     "name": "stdout",
     "output_type": "stream",
     "text": [
      "Number of rows: 423301\n"
     ]
    }
   ],
   "source": [
    "# # format sold_part to full_price\n",
    "# df['sold_part'] = df['sold_part'].astype(float)\n",
    "# print(df.shape[0] - df['sold_part'].isnull().sum())\n",
    "# df['sold_part'].fillna(100, inplace=True)\n",
    "# df['final_price'] = (100 / df['sold_part']) * df['full_price']\n",
    "\n",
    "df = df.loc[df['sold_part'].isnull()]\n",
    "df['final_price'] = df['full_price']\n",
    "df['final_price'] = df['final_price'].astype(int)\n",
    "df.drop(columns=['_id', 'sold_part', 'full_price'], inplace=True)\n",
    "print(\"Number of rows:\", df.shape[0])\n"
   ]
  },
  {
   "cell_type": "markdown",
   "metadata": {},
   "source": [
    "## Split Sale Date to Year and Month columns"
   ]
  },
  {
   "cell_type": "code",
   "execution_count": 11,
   "metadata": {
    "pycharm": {
     "is_executing": false,
     "metadata": false,
     "name": "#%%\n"
    }
   },
   "outputs": [],
   "source": [
    "df['sale_day_year'] = df['sale_day'].apply(lambda x: x.strftime('%Y')).astype(int)\n",
    "df['sale_day_month'] = df['sale_day'].apply(lambda x: x.strftime('%m')).astype(int)"
   ]
  },
  {
   "cell_type": "markdown",
   "metadata": {},
   "source": [
    "## Split Address to street and street number"
   ]
  },
  {
   "cell_type": "code",
   "execution_count": 12,
   "metadata": {
    "pycharm": {
     "is_executing": false,
     "metadata": false,
     "name": "#%%\n"
    }
   },
   "outputs": [],
   "source": [
    "split_data = df['address'].str.rsplit(n=1, expand=True)\n",
    "df['street'] = split_data[0]\n",
    "df['street_number'] = split_data[1]\n"
   ]
  },
  {
   "cell_type": "markdown",
   "metadata": {},
   "source": [
    "## Merge neighborhood value from a different mapping"
   ]
  },
  {
   "cell_type": "code",
   "execution_count": 13,
   "metadata": {
    "pycharm": {
     "is_executing": false,
     "metadata": false,
     "name": "#%%\n"
    }
   },
   "outputs": [
    {
     "name": "stdout",
     "output_type": "stream",
     "text": [
      "Index(['street', 'city', 'neighborhood', 'address_area',\n",
      "       'address_neighborhood'],\n",
      "      dtype='object')\n",
      "(10971, 5)\n"
     ]
    }
   ],
   "source": [
    "try:\n",
    "    nmap = pd.read_csv(\"data/map_address_neighborhood.csv\")\n",
    "    print(nmap.columns)\n",
    "    print(nmap.shape)\n",
    "except Exception:\n",
    "    print(\"Seems we have a problem\")\n",
    "\n",
    "\n",
    "df = pd.merge(df, nmap,  how='inner', on=['city', 'street'])\n"
   ]
  },
  {
   "cell_type": "markdown",
   "metadata": {},
   "source": [
    "## Save results to final file"
   ]
  },
  {
   "cell_type": "code",
   "execution_count": 14,
   "metadata": {
    "pycharm": {
     "is_executing": false,
     "metadata": false,
     "name": "#%%\n"
    }
   },
   "outputs": [],
   "source": [
    "# Sort the rows of dataframe by column 'final_price' inplace\n",
    "df.sort_values(by='final_price' , inplace=True, ascending=False)"
   ]
  },
  {
   "cell_type": "code",
   "execution_count": 15,
   "metadata": {
    "pycharm": {
     "is_executing": false,
     "metadata": false,
     "name": "#%%\n"
    }
   },
   "outputs": [],
   "source": [
    "df.to_csv('data/data_deals_done.csv', encoding='utf-8', index=False)"
   ]
  },
  {
   "cell_type": "code",
   "execution_count": null,
   "metadata": {
    "pycharm": {
     "metadata": false,
     "name": "#%%\n"
    }
   },
   "outputs": [],
   "source": [
    "\n"
   ]
  }
 ],
 "metadata": {
  "kernelspec": {
   "display_name": "PyCharm (final-project)",
   "language": "python",
   "name": "pycharm-968a876d"
  },
  "language_info": {
   "codemirror_mode": {
    "name": "ipython",
    "version": 3
   },
   "file_extension": ".py",
   "mimetype": "text/x-python",
   "name": "python",
   "nbconvert_exporter": "python",
   "pygments_lexer": "ipython3",
   "version": "3.6.8"
  },
  "stem_cell": {
   "cell_type": "raw",
   "metadata": {
    "pycharm": {
     "metadata": false
    }
   },
   "source": ""
  }
 },
 "nbformat": 4,
 "nbformat_minor": 1
}
