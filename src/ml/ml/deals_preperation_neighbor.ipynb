{
  "cells": [
    {
      "cell_type": "code",
      "execution_count": 2,
      "outputs": [],
      "source": "import pandas as pd",
      "metadata": {
        "pycharm": {
          "metadata": false,
          "name": "#%%\n",
          "is_executing": false
        }
      }
    },
    {
      "cell_type": "code",
      "execution_count": 13,
      "outputs": [
        {
          "name": "stdout",
          "text": [
            "Index([\u0027yad2_id\u0027, \u0027latitude\u0027, \u0027longitude\u0027, \u0027price\u0027, \u0027currency\u0027, \u0027street\u0027,\n       \u0027city\u0027, \u0027date_added\u0027, \u0027customer_id\u0027, \u0027home_number\u0027, \u0027neighborhood\u0027,\n       \u0027home_type\u0027, \u0027area_id\u0027, \u0027rooms\u0027, \u0027date_of_entry\u0027, \u0027floor\u0027,\n       \u0027contact_name\u0027, \u0027asset_type\u0027, \u0027square_meters\u0027, \u0027address_area\u0027,\n       \u0027address_neighborhood\u0027, \u0027air_conditioner\u0027, \u0027bars\u0027, \u0027parking\u0027,\n       \u0027elevator\u0027, \u0027accessibility\u0027, \u0027balcony\u0027, \u0027sun_proch\u0027, \u0027renovated\u0027,\n       \u0027shelter\u0027, \u0027warhouse\u0027, \u0027pandor_doors\u0027, \u0027tadiran_c\u0027, \u0027furniture\u0027,\n       \u0027housing_unit\u0027, \u0027children\u0027, \u0027schools\u0027, \u0027elementary_school\u0027,\n       \u0027sale_1_date\u0027, \u0027sale_1_address\u0027, \u0027sale_1_rooms\u0027, \u0027sale_1_price\u0027,\n       \u0027sale_2_date\u0027, \u0027sale_2_address\u0027, \u0027sale_2_rooms\u0027, \u0027sale_2_price\u0027,\n       \u0027sale_3_date\u0027, \u0027sale_3_address\u0027, \u0027sale_3_rooms\u0027, \u0027sale_3_price\u0027,\n       \u0027sale_4_date\u0027, \u0027sale_4_address\u0027, \u0027sale_4_rooms\u0027, \u0027sale_4_price\u0027],\n      dtype\u003d\u0027object\u0027)\n(61143, 54)\n"
          ],
          "output_type": "stream"
        }
      ],
      "source": "try:\n    df \u003d pd.read_csv(\"data/yad2_data.csv\")\n    print(df.columns)\n    print(df.shape)\nexcept Exception:\n    print(\"Seems we have a problem\")\n",
      "metadata": {
        "pycharm": {
          "metadata": false,
          "name": "#%%\n",
          "is_executing": false
        }
      }
    },
    {
      "cell_type": "code",
      "execution_count": 14,
      "outputs": [
        {
          "name": "stdout",
          "text": [
            "(61143, 5)\n"
          ],
          "output_type": "stream"
        }
      ],
      "source": "\nc \u003d [\u0027city\u0027, \u0027neighborhood\u0027, \u0027address_area\u0027, \u0027address_neighborhood\u0027, \u0027street\u0027]\n\ndf.drop(columns\u003d[col for col in list(df.columns) if col not in c], inplace\u003dTrue)\nprint(df.shape)\n",
      "metadata": {
        "pycharm": {
          "metadata": false,
          "name": "#%%\n",
          "is_executing": false
        }
      }
    },
    {
      "cell_type": "code",
      "execution_count": 15,
      "outputs": [
        {
          "data": {
            "text/plain": "(45957, 5)"
          },
          "metadata": {},
          "output_type": "execute_result",
          "execution_count": 15
        }
      ],
      "source": "# remove properties that their price is too low or too high\ndf \u003d df.dropna(subset\u003d[\u0027street\u0027, \u0027neighborhood\u0027])\ndf.shape\n",
      "metadata": {
        "pycharm": {
          "metadata": false,
          "name": "#%%\n",
          "is_executing": false
        }
      }
    },
    {
      "cell_type": "code",
      "execution_count": 16,
      "outputs": [
        {
          "data": {
            "text/plain": "(10971, 5)"
          },
          "metadata": {},
          "output_type": "execute_result",
          "execution_count": 16
        }
      ],
      "source": "df.drop_duplicates([\u0027city\u0027, \u0027street\u0027], inplace\u003dTrue)\ndf.shape",
      "metadata": {
        "pycharm": {
          "metadata": false,
          "name": "#%%\n",
          "is_executing": false
        }
      }
    },
    {
      "cell_type": "code",
      "execution_count": 17,
      "outputs": [],
      "source": "# Sort the rows of dataframe by column \u0027final_price\u0027 inplace\ndf.sort_values(by\u003d\u0027city\u0027 , inplace\u003dTrue, ascending\u003dFalse)",
      "metadata": {
        "pycharm": {
          "metadata": false,
          "name": "#%%\n",
          "is_executing": false
        }
      }
    },
    {
      "cell_type": "code",
      "execution_count": 18,
      "outputs": [],
      "source": "df.to_csv(\u0027data/map_address_neighborhood.csv\u0027, encoding\u003d\u0027utf-8\u0027, index\u003dFalse)",
      "metadata": {
        "pycharm": {
          "metadata": false,
          "name": "#%%\n",
          "is_executing": false
        }
      }
    },
    {
      "cell_type": "code",
      "execution_count": null,
      "outputs": [],
      "source": "\n",
      "metadata": {
        "pycharm": {
          "metadata": false,
          "name": "#%%\n"
        }
      }
    }
  ],
  "metadata": {
    "kernelspec": {
      "display_name": "PyCharm (final-project)",
      "language": "python",
      "name": "pycharm-968a876d"
    },
    "language_info": {
      "codemirror_mode": {
        "name": "ipython",
        "version": 3
      },
      "file_extension": ".py",
      "mimetype": "text/x-python",
      "name": "python",
      "nbconvert_exporter": "python",
      "pygments_lexer": "ipython3",
      "version": "3.6.8"
    },
    "stem_cell": {
      "cell_type": "raw",
      "source": "",
      "metadata": {
        "pycharm": {
          "metadata": false
        }
      }
    }
  },
  "nbformat": 4,
  "nbformat_minor": 1
}